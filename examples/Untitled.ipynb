{
 "cells": [
  {
   "cell_type": "code",
   "execution_count": null,
   "metadata": {
    "collapsed": false
   },
   "outputs": [],
   "source": []
  },
  {
   "cell_type": "code",
   "execution_count": 4,
   "metadata": {
    "collapsed": false,
    "scrolled": true
   },
   "outputs": [
    {
     "data": {
      "text/plain": [
       "physical.values(bond=245.249161, angle=172.466705, dihedral=267.354706, improper=168.278748, soft_sphere=30.308956, lennard_jones=0.000000, coulomb=0.000000, h_bond=0.000000, ca_distance=0.000000, n_o_distance=0.000000, phi_dihedral=0.000000, psi_dihedral=0.000000, omega_dihedral=0.000000, chi1_dihedral=0.000000, chi2_dihedral=0.000000, chi3_dihedral=0.000000, chi4_dihedral=0.000000, disulfide_distance=0.000000, disulfide_angle=0.000000, disulfide_dihedral=0.000000, lower_distance=0.000000, upper_distance=0.000000, sd_mn_distance=0.000000, chi5_dihedral=0.000000, phi_psi_dihedral=0.000000, sd_sd_distance=0.000000, xy_distance=0.000000, nmr_distance=0.000000, nmr_distance2=0.000000, min_distance=0.000000, nonbond_spline=0.000000, accessibility=0.000000, density=0.000000, absposition=0.000000, dihedral_diff=0.000000, gbsa=0.000000, em_density=0.000000, saxs=0.000000, symmetry=0.000000)"
      ]
     },
     "execution_count": 4,
     "metadata": {},
     "output_type": "execute_result"
    }
   ],
   "source": [
    "terms"
   ]
  },
  {
   "cell_type": "code",
   "execution_count": null,
   "metadata": {
    "collapsed": true
   },
   "outputs": [],
   "source": [
    "print score"
   ]
  },
  {
   "cell_type": "code",
   "execution_count": 8,
   "metadata": {
    "collapsed": false
   },
   "outputs": [],
   "source": [
    "s0 = selection(mdl.residue_range('%s:A'%str(2),'%s:A'%str(20)))\n",
    "s1 = selection(mdl.residue_range('%s:A'%str(24),'%s:A'%str(43)))\n",
    "s0s1 = selection(mdl.residue_range('%s:A'%str(2),'%s:A'%str(20)), \\\n",
    "                    mdl.residue_range('%s:A'%str(24),'%s:A'%str(43)))"
   ]
  },
  {
   "cell_type": "code",
   "execution_count": 11,
   "metadata": {
    "collapsed": false
   },
   "outputs": [
    {
     "data": {
      "text/plain": [
       "(854.6323852539062,\n",
       " physical.values(bond=245.249161, angle=172.466705, dihedral=267.354706, improper=168.278748, soft_sphere=1.282960, lennard_jones=0.000000, coulomb=0.000000, h_bond=0.000000, ca_distance=0.000000, n_o_distance=0.000000, phi_dihedral=0.000000, psi_dihedral=0.000000, omega_dihedral=0.000000, chi1_dihedral=0.000000, chi2_dihedral=0.000000, chi3_dihedral=0.000000, chi4_dihedral=0.000000, disulfide_distance=0.000000, disulfide_angle=0.000000, disulfide_dihedral=0.000000, lower_distance=0.000000, upper_distance=0.000000, sd_mn_distance=0.000000, chi5_dihedral=0.000000, phi_psi_dihedral=0.000000, sd_sd_distance=0.000000, xy_distance=0.000000, nmr_distance=0.000000, nmr_distance2=0.000000, min_distance=0.000000, nonbond_spline=0.000000, accessibility=0.000000, density=0.000000, absposition=0.000000, dihedral_diff=0.000000, gbsa=0.000000, em_density=0.000000, saxs=0.000000, symmetry=0.000000))"
      ]
     },
     "execution_count": 11,
     "metadata": {},
     "output_type": "execute_result"
    }
   ],
   "source": [
    "s0.energy()"
   ]
  },
  {
   "cell_type": "code",
   "execution_count": 10,
   "metadata": {
    "collapsed": false
   },
   "outputs": [
    {
     "data": {
      "text/plain": [
       "(872.5542602539062,\n",
       " physical.values(bond=245.249161, angle=172.466705, dihedral=267.354706, improper=168.278748, soft_sphere=19.204775, lennard_jones=0.000000, coulomb=0.000000, h_bond=0.000000, ca_distance=0.000000, n_o_distance=0.000000, phi_dihedral=0.000000, psi_dihedral=0.000000, omega_dihedral=0.000000, chi1_dihedral=0.000000, chi2_dihedral=0.000000, chi3_dihedral=0.000000, chi4_dihedral=0.000000, disulfide_distance=0.000000, disulfide_angle=0.000000, disulfide_dihedral=0.000000, lower_distance=0.000000, upper_distance=0.000000, sd_mn_distance=0.000000, chi5_dihedral=0.000000, phi_psi_dihedral=0.000000, sd_sd_distance=0.000000, xy_distance=0.000000, nmr_distance=0.000000, nmr_distance2=0.000000, min_distance=0.000000, nonbond_spline=0.000000, accessibility=0.000000, density=0.000000, absposition=0.000000, dihedral_diff=0.000000, gbsa=0.000000, em_density=0.000000, saxs=0.000000, symmetry=0.000000))"
      ]
     },
     "execution_count": 10,
     "metadata": {},
     "output_type": "execute_result"
    }
   ],
   "source": [
    "s1.energy()"
   ]
  },
  {
   "cell_type": "code",
   "execution_count": 9,
   "metadata": {
    "collapsed": false
   },
   "outputs": [
    {
     "data": {
      "text/plain": [
       "(873.6985473632812,\n",
       " physical.values(bond=245.249161, angle=172.466705, dihedral=267.354706, improper=168.278748, soft_sphere=20.349026, lennard_jones=0.000000, coulomb=0.000000, h_bond=0.000000, ca_distance=0.000000, n_o_distance=0.000000, phi_dihedral=0.000000, psi_dihedral=0.000000, omega_dihedral=0.000000, chi1_dihedral=0.000000, chi2_dihedral=0.000000, chi3_dihedral=0.000000, chi4_dihedral=0.000000, disulfide_distance=0.000000, disulfide_angle=0.000000, disulfide_dihedral=0.000000, lower_distance=0.000000, upper_distance=0.000000, sd_mn_distance=0.000000, chi5_dihedral=0.000000, phi_psi_dihedral=0.000000, sd_sd_distance=0.000000, xy_distance=0.000000, nmr_distance=0.000000, nmr_distance2=0.000000, min_distance=0.000000, nonbond_spline=0.000000, accessibility=0.000000, density=0.000000, absposition=0.000000, dihedral_diff=0.000000, gbsa=0.000000, em_density=0.000000, saxs=0.000000, symmetry=0.000000))"
      ]
     },
     "execution_count": 9,
     "metadata": {},
     "output_type": "execute_result"
    }
   ],
   "source": [
    "s0s1.energy()"
   ]
  },
  {
   "cell_type": "code",
   "execution_count": null,
   "metadata": {
    "collapsed": true
   },
   "outputs": [],
   "source": []
  }
 ],
 "metadata": {
  "anaconda-cloud": {},
  "kernelspec": {
   "display_name": "Python [default]",
   "language": "python",
   "name": "python2"
  },
  "language_info": {
   "codemirror_mode": {
    "name": "ipython",
    "version": 2
   },
   "file_extension": ".py",
   "mimetype": "text/x-python",
   "name": "python",
   "nbconvert_exporter": "python",
   "pygments_lexer": "ipython2",
   "version": "2.7.12"
  }
 },
 "nbformat": 4,
 "nbformat_minor": 1
}
