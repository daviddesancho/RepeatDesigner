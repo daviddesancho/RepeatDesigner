{
 "cells": [
  {
   "cell_type": "code",
   "execution_count": 6,
   "metadata": {
    "collapsed": false
   },
   "outputs": [],
   "source": [
    "# Example for: selection.energy()\n",
    "\n",
    "# This will calculate the stereochemical energy (bonds,\n",
    "# angles, dihedrals, impropers) for a given model.\n",
    "\n",
    "from modeller import *\n",
    "from modeller.scripts import complete_pdb\n",
    "\n",
    "log.none()\n",
    "\n",
    "env = environ()\n",
    "env.io.atom_files_directory = '../atom_files'\n",
    "env.libs.topology.read(file='$(LIB)/top_heav.lib')\n",
    "env.libs.parameters.read(file='$(LIB)/par.lib')\n",
    "\n",
    "mdl = complete_pdb(env, \"pdb2a3d.ent\")"
   ]
  },
  {
   "cell_type": "code",
   "execution_count": 3,
   "metadata": {
    "collapsed": false
   },
   "outputs": [
    {
     "name": "stdout",
     "output_type": "stream",
     "text": [
      "physical.values(bond=0.000000, angle=0.000000, dihedral=0.000000, improper=0.000000, soft_sphere=30.308956, lennard_jones=0.000000, coulomb=0.000000, h_bond=0.000000, ca_distance=0.000000, n_o_distance=0.000000, phi_dihedral=0.000000, psi_dihedral=0.000000, omega_dihedral=0.000000, chi1_dihedral=0.000000, chi2_dihedral=0.000000, chi3_dihedral=0.000000, chi4_dihedral=0.000000, disulfide_distance=0.000000, disulfide_angle=0.000000, disulfide_dihedral=0.000000, lower_distance=0.000000, upper_distance=0.000000, sd_mn_distance=0.000000, chi5_dihedral=0.000000, phi_psi_dihedral=0.000000, sd_sd_distance=0.000000, xy_distance=0.000000, nmr_distance=0.000000, nmr_distance2=0.000000, min_distance=0.000000, nonbond_spline=0.000000, accessibility=0.000000, density=0.000000, absposition=0.000000, dihedral_diff=0.000000, gbsa=0.000000, em_density=0.000000, saxs=0.000000, symmetry=0.000000)\n"
     ]
    }
   ],
   "source": [
    "# Select all atoms\n",
    "atmsel = selection(mdl)\n",
    "#amtsel = make_restranints(atmsel)\n",
    "(molpdf, terms) = atmsel.energy(edat=energy_data(dynamic_sphere=True))\n",
    "print terms"
   ]
  },
  {
   "cell_type": "code",
   "execution_count": 4,
   "metadata": {
    "collapsed": true
   },
   "outputs": [],
   "source": [
    "s0 = selection(mdl.residue_range('%s:A'%str(2),'%s:A'%str(20)))\n",
    "s1 = selection(mdl.residue_range('%s:A'%str(24),'%s:A'%str(43)))\n",
    "s0s1 = s0 | s1"
   ]
  },
  {
   "cell_type": "code",
   "execution_count": 5,
   "metadata": {
    "collapsed": false
   },
   "outputs": [
    {
     "name": "stdout",
     "output_type": "stream",
     "text": [
      "physical.values(bond=0.000000, angle=0.000000, dihedral=0.000000, improper=0.000000, soft_sphere=1.282960, lennard_jones=61.895496, coulomb=-504.588409, h_bond=0.000000, ca_distance=0.000000, n_o_distance=0.000000, phi_dihedral=0.000000, psi_dihedral=0.000000, omega_dihedral=0.000000, chi1_dihedral=0.000000, chi2_dihedral=0.000000, chi3_dihedral=0.000000, chi4_dihedral=0.000000, disulfide_distance=0.000000, disulfide_angle=0.000000, disulfide_dihedral=0.000000, lower_distance=0.000000, upper_distance=0.000000, sd_mn_distance=0.000000, chi5_dihedral=0.000000, phi_psi_dihedral=0.000000, sd_sd_distance=0.000000, xy_distance=0.000000, nmr_distance=0.000000, nmr_distance2=0.000000, min_distance=0.000000, nonbond_spline=0.000000, accessibility=0.000000, density=0.000000, absposition=0.000000, dihedral_diff=0.000000, gbsa=0.000000, em_density=0.000000, saxs=0.000000, symmetry=0.000000)\n",
      "\n",
      "physical.values(bond=0.000000, angle=0.000000, dihedral=0.000000, improper=0.000000, soft_sphere=19.204775, lennard_jones=147.117310, coulomb=-779.387878, h_bond=0.000000, ca_distance=0.000000, n_o_distance=0.000000, phi_dihedral=0.000000, psi_dihedral=0.000000, omega_dihedral=0.000000, chi1_dihedral=0.000000, chi2_dihedral=0.000000, chi3_dihedral=0.000000, chi4_dihedral=0.000000, disulfide_distance=0.000000, disulfide_angle=0.000000, disulfide_dihedral=0.000000, lower_distance=0.000000, upper_distance=0.000000, sd_mn_distance=0.000000, chi5_dihedral=0.000000, phi_psi_dihedral=0.000000, sd_sd_distance=0.000000, xy_distance=0.000000, nmr_distance=0.000000, nmr_distance2=0.000000, min_distance=0.000000, nonbond_spline=0.000000, accessibility=0.000000, density=0.000000, absposition=0.000000, dihedral_diff=0.000000, gbsa=0.000000, em_density=0.000000, saxs=0.000000, symmetry=0.000000)\n",
      "\n",
      "physical.values(bond=0.000000, angle=0.000000, dihedral=0.000000, improper=0.000000, soft_sphere=20.349026, lennard_jones=201.242874, coulomb=-1239.575684, h_bond=0.000000, ca_distance=0.000000, n_o_distance=0.000000, phi_dihedral=0.000000, psi_dihedral=0.000000, omega_dihedral=0.000000, chi1_dihedral=0.000000, chi2_dihedral=0.000000, chi3_dihedral=0.000000, chi4_dihedral=0.000000, disulfide_distance=0.000000, disulfide_angle=0.000000, disulfide_dihedral=0.000000, lower_distance=0.000000, upper_distance=0.000000, sd_mn_distance=0.000000, chi5_dihedral=0.000000, phi_psi_dihedral=0.000000, sd_sd_distance=0.000000, xy_distance=0.000000, nmr_distance=0.000000, nmr_distance2=0.000000, min_distance=0.000000, nonbond_spline=0.000000, accessibility=0.000000, density=0.000000, absposition=0.000000, dihedral_diff=0.000000, gbsa=0.000000, em_density=0.000000, saxs=0.000000, symmetry=0.000000)\n",
      "\n"
     ]
    }
   ],
   "source": [
    "for sel in [s0, s1, s0s1]:\n",
    "    #sel = make_restranints(sel)\n",
    "    (molpdf, terms) = sel.energy(edat=energy_data(dynamic_sphere=True, dynamic_lennard=True, dynamic_coulomb=True))\n",
    "    print terms\n",
    "    print"
   ]
  },
  {
   "cell_type": "code",
   "execution_count": null,
   "metadata": {
    "collapsed": false
   },
   "outputs": [],
   "source": [
    "interface_energy = s0s1.energy()[0] - (s0.energy()[0] + s1.energy()[0])\n",
    "print interface_energy"
   ]
  }
 ],
 "metadata": {
  "anaconda-cloud": {},
  "kernelspec": {
   "display_name": "Python [default]",
   "language": "python",
   "name": "python2"
  },
  "language_info": {
   "codemirror_mode": {
    "name": "ipython",
    "version": 2
   },
   "file_extension": ".py",
   "mimetype": "text/x-python",
   "name": "python",
   "nbconvert_exporter": "python",
   "pygments_lexer": "ipython2",
   "version": "2.7.12"
  }
 },
 "nbformat": 4,
 "nbformat_minor": 1
}
