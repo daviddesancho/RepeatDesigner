{
 "cells": [
  {
   "cell_type": "markdown",
   "metadata": {},
   "source": [
    "# Villin helix design\n",
    "Here we attempt to do a slightly more complicated modelling, involving mutations in the helical regions of the protein."
   ]
  },
  {
   "cell_type": "code",
   "execution_count": 1,
   "metadata": {
    "collapsed": false
   },
   "outputs": [],
   "source": [
    "%load_ext autoreload\n",
    "%autoreload 2\n",
    "import matplotlib.pyplot as plt\n",
    "%matplotlib inline\n",
    "import seaborn as sns\n",
    "from repeatdesigner import designer as rd"
   ]
  },
  {
   "cell_type": "markdown",
   "metadata": {},
   "source": [
    "### Simple test\n",
    "First we optimize a single residue, which happens to have been mutated experimentally into a histidine. In this case thigs should work so that we get a rather well converged optimization. We create an instance of the Design class, defining as target residue 25 in the sequence."
   ]
  },
  {
   "cell_type": "code",
   "execution_count": 2,
   "metadata": {
    "collapsed": false
   },
   "outputs": [
    {
     "name": "stdout",
     "output_type": "stream",
     "text": [
      " Generated new protein design \n",
      " .. name : pdbs/1vii\n",
      " .. file : pdbs/1vii.pdb\n",
      " .. sequence : MLSDEDFKAVFGMTRSAFANLPLWKQQNLKKEKGLF\n",
      " .. target residues :  [4, 5, 6, 7, 8, 15, 16, 17, 22, 23]\n"
     ]
    }
   ],
   "source": [
    "helical = [4,5,6,7,8,15,16,17,22,23,24,25,26,27,28,29,30,31]\n",
    "villin_des = rd.Design(pdb=\"pdbs/1vii.pdb\", targets=helical[0:10])"
   ]
  },
  {
   "cell_type": "markdown",
   "metadata": {},
   "source": [
    "Then we create the optimizer, passing arguments like the inverse temperature (`beta`) that will determine the acceptance, the length of the run (`len_mc`) and the number of runs (`nruns`, always think about your number of processors)."
   ]
  },
  {
   "cell_type": "code",
   "execution_count": 25,
   "metadata": {
    "collapsed": false
   },
   "outputs": [],
   "source": [
    "mc_villin = rd.Optimizer(villin_des, beta=5e-2, len_mc=200, nruns=5)\n",
    "mc_villin.run_mc()"
   ]
  },
  {
   "cell_type": "code",
   "execution_count": 26,
   "metadata": {
    "collapsed": false
   },
   "outputs": [
    {
     "name": "stdout",
     "output_type": "stream",
     "text": [
      "MLSDEDFKAVFGMTRSAFANLPLWKQQNLKKEKGLF [[-1207.2847900390625]]\n",
      "MLSDEDFKAVFGMTRSAFANLPLWKQQNLKKEKGLF [[-1207.2847900390625]]\n",
      "MLSDEDFKAVFGMTRSAFANLPLWKQQNLKKEKGLF [[-1207.2847900390625]]\n",
      "MLSDEDFKAVFGMTRSAFANLPLWKQQNLKKEKGLF [[-1207.2847900390625]]\n",
      "MLSDEDFKAVFGMTRSAFANLPLWKQQNLKKEKGLF [[-1207.2847900390625]]\n"
     ]
    },
    {
     "data": {
      "text/plain": [
       "<matplotlib.text.Text at 0x1190a6e90>"
      ]
     },
     "execution_count": 26,
     "metadata": {},
     "output_type": "execute_result"
    },
    {
     "data": {
      "image/png": "[encoded data removed]",
      "text/plain": [
       "<matplotlib.figure.Figure at 0x119ecf590>"
      ]
     },
     "metadata": {},
     "output_type": "display_data"
    }
   ],
   "source": [
    "fig, ax = plt.subplots()\n",
    "for k,v in mc_villin.models.iteritems():\n",
    "    ax.plot(v['score'])\n",
    "    print v['seq'], v['score']\n",
    "ax.set_ylabel('Energy', fontsize=14)\n",
    "ax.set_xlabel('MC steps', fontsize=14)"
   ]
  },
  {
   "cell_type": "code",
   "execution_count": null,
   "metadata": {
    "collapsed": true
   },
   "outputs": [],
   "source": []
  }
 ],
 "metadata": {
  "anaconda-cloud": {},
  "kernelspec": {
   "display_name": "Python [default]",
   "language": "python",
   "name": "python2"
  },
  "language_info": {
   "codemirror_mode": {
    "name": "ipython",
    "version": 2
   },
   "file_extension": ".py",
   "mimetype": "text/x-python",
   "name": "python",
   "nbconvert_exporter": "python",
   "pygments_lexer": "ipython2",
   "version": "2.7.12"
  }
 },
 "nbformat": 4,
 "nbformat_minor": 0
}
