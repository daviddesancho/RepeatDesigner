{
 "cells": [
  {
   "cell_type": "markdown",
   "metadata": {},
   "source": [
    "# Protein repeat design\n",
    "In this document we test additional features of the RepeatDesigner package beyond running an optimization of the protein sequence. Here we explore the presence of repeats, how these are encoded in the package, and how we give weights inside a composite scoring function."
   ]
  },
  {
   "cell_type": "code",
   "execution_count": 7,
   "metadata": {
    "collapsed": false
   },
   "outputs": [
    {
     "name": "stdout",
     "output_type": "stream",
     "text": [
      "The autoreload extension is already loaded. To reload it, use:\n",
      "  %reload_ext autoreload\n"
     ]
    }
   ],
   "source": [
    "%load_ext autoreload\n",
    "%autoreload 2\n",
    "import matplotlib.pyplot as plt\n",
    "%matplotlib inline\n",
    "import seaborn as sns"
   ]
  },
  {
   "cell_type": "code",
   "execution_count": 8,
   "metadata": {
    "collapsed": true
   },
   "outputs": [],
   "source": [
    "from repeatdesigner import designer as rd"
   ]
  },
  {
   "cell_type": "code",
   "execution_count": 23,
   "metadata": {
    "collapsed": false
   },
   "outputs": [
    {
     "name": "stdout",
     "output_type": "stream",
     "text": [
      "2 34\n",
      "36 68\n",
      "70 102\n",
      " Generated new protein design \n",
      " .. name : pdbs/3atb\n",
      " .. file : pdbs/3atb.pdb\n",
      " .. sequence : NSAEAWYNLGNAYYKQGDYDEAIEYYQKALELDPNNAEAWYNLGNAYYKQGDYDEAIEYYQKALELDPNNAEAWYNLGNAYYKQGDYDEAIEYYQKALELDPNNAEAKQDLGNAKQKQG\n",
      " .. target residues :  [25, 26, 28, 29, 32, 33, 34, 42, 44, 45, 48, 49, 52, 53, 55, 56]\n"
     ]
    }
   ],
   "source": [
    "targets = [25, 26, 28, 29, 32, 33, 34, 42, 44, 45, 48, 49, 52, 53, 55, 56]\n",
    "repeats = [(2,34), \\\n",
    "           (36,68), \\\n",
    "          (70,102)]\n",
    "for r in repeats:\n",
    "    print r[0],r[1]\n",
    "tpr_des = rd.Repeat(pdb=\"pdbs/3atb.pdb\", targets=targets, repeats=repeats)"
   ]
  },
  {
   "cell_type": "code",
   "execution_count": 25,
   "metadata": {
    "collapsed": false
   },
   "outputs": [],
   "source": [
    "reps = []\n",
    "for r in repeats:\n",
    "    reps.append(type(tpr_des.seq[r[0]:r[-1]]))\n",
    "try:\n",
    "    assert reps[0] == reps[1]\n",
    "except AssertionError:\n",
    "    print \"AssertionError: sequences are not equal\""
   ]
  },
  {
   "cell_type": "code",
   "execution_count": 42,
   "metadata": {
    "collapsed": false
   },
   "outputs": [],
   "source": [
    "mc_tpr = rd.Optimizer(tpr_des, beta=0.01, len_mc=10, nruns=1)"
   ]
  },
  {
   "cell_type": "code",
   "execution_count": 44,
   "metadata": {
    "collapsed": false
   },
   "outputs": [],
   "source": [
    "mc_tpr.run_mc()"
   ]
  },
  {
   "cell_type": "code",
   "execution_count": 45,
   "metadata": {
    "collapsed": false
   },
   "outputs": [
    {
     "data": {
      "text/plain": [
       "<matplotlib.text.Text at 0x11b879550>"
      ]
     },
     "execution_count": 45,
     "metadata": {},
     "output_type": "execute_result"
    },
    {
     "data": {
      "image/png": "[encoded data removed]",
      "text/plain": [
       "<matplotlib.figure.Figure at 0x11b639550>"
      ]
     },
     "metadata": {},
     "output_type": "display_data"
    }
   ],
   "source": [
    "fig, ax = plt.subplots()\n",
    "for k,v in mc_tpr.models.iteritems():\n",
    "    ax.plot(v['score'])\n",
    "\n",
    "ax.set_ylabel('DOPE energy', fontsize=14)\n",
    "ax.set_xlabel('MC steps', fontsize=14)"
   ]
  },
  {
   "cell_type": "code",
   "execution_count": null,
   "metadata": {
    "collapsed": true
   },
   "outputs": [],
   "source": []
  }
 ],
 "metadata": {
  "anaconda-cloud": {},
  "kernelspec": {
   "display_name": "Python [default]",
   "language": "python",
   "name": "python2"
  },
  "language_info": {
   "codemirror_mode": {
    "name": "ipython",
    "version": 2
   },
   "file_extension": ".py",
   "mimetype": "text/x-python",
   "name": "python",
   "nbconvert_exporter": "python",
   "pygments_lexer": "ipython2",
   "version": "2.7.12"
  }
 },
 "nbformat": 4,
 "nbformat_minor": 1
}
