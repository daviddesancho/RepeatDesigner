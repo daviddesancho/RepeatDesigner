{
 "cells": [
  {
   "cell_type": "markdown",
   "metadata": {},
   "source": [
    "# Protein repeat design\n",
    "In this document we test additional features of the RepeatDesigner package beyond running an optimization of the protein sequence. Here we explore the presence of repeats, how these are encoded in the package, and how we give weights inside a composite scoring function."
   ]
  },
  {
   "cell_type": "code",
   "execution_count": 1,
   "metadata": {
    "collapsed": false
   },
   "outputs": [
    {
     "name": "stdout",
     "output_type": "stream",
     "text": [
      "The autoreload extension is already loaded. To reload it, use:\n",
      "  %reload_ext autoreload\n"
     ]
    }
   ],
   "source": [
    "%load_ext autoreload\n",
    "%autoreload 2\n",
    "import matplotlib.pyplot as plt\n",
    "%matplotlib inline\n",
    "import seaborn as sns"
   ]
  },
  {
   "cell_type": "code",
   "execution_count": 2,
   "metadata": {
    "collapsed": true
   },
   "outputs": [],
   "source": [
    "from repeatdesigner import designer as rd"
   ]
  },
  {
   "cell_type": "code",
   "execution_count": 3,
   "metadata": {
    "collapsed": false
   },
   "outputs": [
    {
     "name": "stdout",
     "output_type": "stream",
     "text": [
      "2 34\n",
      "36 68\n",
      "70 102\n",
      " Generated new protein design \n",
      " .. name : pdbs/3atb\n",
      " .. file : pdbs/3atb.pdb\n",
      " .. sequence : NSAEAWYNLGNAYYKQGDYDEAIEYYQKALELDPNNAEAWYNLGNAYYKQGDYDEAIEYYQKALELDPNNAEAWYNLGNAYYKQGDYDEAIEYYQKALELDPNNAEAKQDLGNAKQKQG\n",
      " .. target residues :  [0, 1, 2, 3, 4, 5, 6, 7, 8, 9, 10, 11, 12, 13, 14, 15, 16, 17, 18, 19, 20, 21, 22, 23, 24, 25, 26, 27, 28, 29, 30, 31, 32, 33, 34, 35, 36, 37, 38, 39, 40, 41, 42, 43, 44, 45, 46, 47, 48, 49, 50, 51, 52, 53, 54, 55, 56, 57, 58, 59, 60, 61, 62, 63, 64, 65, 66, 67, 68, 69, 70, 71, 72, 73, 74, 75, 76, 77, 78, 79, 80, 81, 82, 83, 84, 85, 86, 87, 88, 89, 90, 91, 92, 93, 94, 95, 96, 97, 98, 99, 100, 101, 102, 103, 104, 105, 106, 107, 108, 109, 110, 111, 112, 113, 114, 115, 116, 117, 118]\n"
     ]
    }
   ],
   "source": [
    "targets = [25, 26, 28, 29, 32, 33, 34, 42, 44, 45, 48, 49, 52, 53, 55, 56]\n",
    "repeats = [(2,34), \\\n",
    "           (36,68), \\\n",
    "          (70,102)]\n",
    "for r in repeats:\n",
    "    print r[0],r[1]\n",
    "tpr_des = rd.Repeat(pdb=\"pdbs/3atb.pdb\", repeats=repeats)"
   ]
  },
  {
   "cell_type": "code",
   "execution_count": 4,
   "metadata": {
    "collapsed": false
   },
   "outputs": [],
   "source": [
    "reps = []\n",
    "for r in repeats:\n",
    "    reps.append(type(tpr_des.seq[r[0]:r[-1]]))\n",
    "try:\n",
    "    assert reps[0] == reps[1]\n",
    "except AssertionError:\n",
    "    print \"AssertionError: sequences are not equal\""
   ]
  },
  {
   "cell_type": "code",
   "execution_count": 9,
   "metadata": {
    "collapsed": false
   },
   "outputs": [],
   "source": [
    "mc_tpr = rd.Optimizer(tpr_des, beta=0.01, len_mc=1, nruns=1)"
   ]
  },
  {
   "cell_type": "code",
   "execution_count": 22,
   "metadata": {
    "collapsed": false
   },
   "outputs": [
    {
     "name": "stdout",
     "output_type": "stream",
     "text": [
      " Run #0\n",
      " I am a repeat protein!\n",
      ">> Model assessment by DOPE potential\n",
      "DOPE score               : -13863.834961\n",
      "NSAEAWYNLGNAYYKQGDYDEAIEYYQKALELDPNNAEAWYNLGNAYYKQGDYDEAIEYYQKALELDPNNAEAWYNLGNAYYKQGDYDEAIEYYQKALELDPNNAEAKQDLGNAKQKQG 93 HIS\n",
      "NSAEAWYNLGNAYYKQGDYDEAIEYYQKALELDPNNAEAWYNLGNAYYKQGDYDEAIEYYQKALELDPNNAEAWYNLGNAYYKQGDYDEAIEYHQKALELDPNNAEAKQDLGNAKQKQG\n",
      "0 atoms in HETATM/BLK residues constrained\n",
      "to protein atoms within 2.30 angstroms\n",
      "and protein CA atoms within 10.00 angstroms\n",
      "0 atoms in residues without defined topology\n",
      "constrained to be rigid bodies\n",
      "\n",
      ">> Summary of successfully produced models:\n",
      "Filename                          molpdf\n",
      "----------------------------------------\n",
      "/var/folders/yg/f82gg6x97m1d737h6pl80_fr0000gn/T/mut_OfAloH.fasta.B99990001.pdb      606.61035\n",
      "\n",
      ">> Model assessment by DOPE potential\n",
      "DOPE score               : -13432.796875\n",
      "Finding mutating residue in repeat\n",
      ">> Model assessment by DOPE potential\n",
      "DOPE score               : -2003.125732\n",
      "23\n",
      " Building competing models\n",
      "(2, 34)\n",
      "NSAEAWYNLGNAYYKQGDYDEAIEYHQKALELDPNNAEAWYNLGNAYYKQGDYDEAIEYYQKALELDPNNAEAWYNLGNAYYKQGDYDEAIEYYQKALELDPNNAEAKQDLGNAKQKQG\n",
      "0 atoms in HETATM/BLK residues constrained\n",
      "to protein atoms within 2.30 angstroms\n",
      "and protein CA atoms within 10.00 angstroms\n",
      "0 atoms in residues without defined topology\n",
      "constrained to be rigid bodies\n",
      "\n",
      ">> Summary of successfully produced models:\n",
      "Filename                          molpdf\n",
      "----------------------------------------\n",
      "/var/folders/yg/f82gg6x97m1d737h6pl80_fr0000gn/T/mut_6MYuB0.fasta.B99990001.pdb      510.42960\n",
      "\n",
      "<Selection of 78 atoms>\n",
      ">> Model assessment by DOPE potential\n",
      "DOPE score               : -2052.879395\n",
      "(36, 68)\n",
      "NSAEAWYNLGNAYYKQGDYDEAIEYYQKALELDPNNAEAWYNLGNAYYKQGDYDEAIEYHQKALELDPNNAEAWYNLGNAYYKQGDYDEAIEYYQKALELDPNNAEAKQDLGNAKQKQG\n",
      "0 atoms in HETATM/BLK residues constrained\n",
      "to protein atoms within 2.30 angstroms\n",
      "and protein CA atoms within 10.00 angstroms\n",
      "0 atoms in residues without defined topology\n",
      "constrained to be rigid bodies\n",
      "\n",
      ">> Summary of successfully produced models:\n",
      "Filename                          molpdf\n",
      "----------------------------------------\n",
      "/var/folders/yg/f82gg6x97m1d737h6pl80_fr0000gn/T/mut_P35ed0.fasta.B99990001.pdb      495.56293\n",
      "\n",
      "<Selection of 78 atoms>\n",
      ">> Model assessment by DOPE potential\n",
      "DOPE score               : -2406.291992\n",
      "(70, 102)\n",
      " Current energy -13863.8\n",
      "\n",
      "0 atoms in HETATM/BLK residues constrained\n",
      "to protein atoms within 2.30 angstroms\n",
      "and protein CA atoms within 10.00 angstroms\n",
      "0 atoms in residues without defined topology\n",
      "constrained to be rigid bodies\n",
      "\n",
      ">> Summary of successfully produced models:\n",
      "Filename                          molpdf\n",
      "----------------------------------------\n",
      "data/final0.fasta.B99990001.pdb      579.95325\n",
      "\n"
     ]
    }
   ],
   "source": [
    "mc_tpr.run_mc()"
   ]
  },
  {
   "cell_type": "code",
   "execution_count": 7,
   "metadata": {
    "collapsed": false
   },
   "outputs": [
    {
     "data": {
      "text/plain": [
       "<matplotlib.text.Text at 0x11836b450>"
      ]
     },
     "execution_count": 7,
     "metadata": {},
     "output_type": "execute_result"
    },
    {
     "data": {
      "image/png": "[encoded data removed]",
      "text/plain": [
       "<matplotlib.figure.Figure at 0x118368dd0>"
      ]
     },
     "metadata": {},
     "output_type": "display_data"
    }
   ],
   "source": [
    "fig, ax = plt.subplots()\n",
    "for k,v in mc_tpr.models.iteritems():\n",
    "    ax.plot(v['score'])\n",
    "\n",
    "ax.set_ylabel('DOPE energy', fontsize=14)\n",
    "ax.set_xlabel('MC steps', fontsize=14)"
   ]
  },
  {
   "cell_type": "code",
   "execution_count": null,
   "metadata": {
    "collapsed": true
   },
   "outputs": [],
   "source": []
  }
 ],
 "metadata": {
  "anaconda-cloud": {},
  "kernelspec": {
   "display_name": "Python [default]",
   "language": "python",
   "name": "python2"
  },
  "language_info": {
   "codemirror_mode": {
    "name": "ipython",
    "version": 2
   },
   "file_extension": ".py",
   "mimetype": "text/x-python",
   "name": "python",
   "nbconvert_exporter": "python",
   "pygments_lexer": "ipython2",
   "version": "2.7.12"
  }
 },
 "nbformat": 4,
 "nbformat_minor": 1
}
