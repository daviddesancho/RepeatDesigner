{
 "cells": [
  {
   "cell_type": "markdown",
   "metadata": {},
   "source": [
    "# Simple design\n",
    "Here we attempt to do the simplest possible modelling, which just tries to model new side chains at random that improve the total energy. We use the simple villin headpiece subdomain as an example. Here, the specifics for repeat proteins are not required."
   ]
  },
  {
   "cell_type": "code",
   "execution_count": 66,
   "metadata": {
    "collapsed": false
   },
   "outputs": [
    {
     "name": "stdout",
     "output_type": "stream",
     "text": [
      "The autoreload extension is already loaded. To reload it, use:\n",
      "  %reload_ext autoreload\n"
     ]
    }
   ],
   "source": [
    "%load_ext autoreload\n",
    "%autoreload 2\n",
    "import matplotlib.pyplot as plt\n",
    "%matplotlib inline\n",
    "import seaborn as sns"
   ]
  },
  {
   "cell_type": "code",
   "execution_count": 67,
   "metadata": {
    "collapsed": false
   },
   "outputs": [],
   "source": [
    "from repeatdesigner import designer as rd"
   ]
  },
  {
   "cell_type": "code",
   "execution_count": 68,
   "metadata": {
    "collapsed": false
   },
   "outputs": [],
   "source": [
    "villin_des = rd.Design(pdb=\"pdbs/1vii.pdb\")"
   ]
  },
  {
   "cell_type": "code",
   "execution_count": 69,
   "metadata": {
    "collapsed": false
   },
   "outputs": [
    {
     "name": "stdout",
     "output_type": "stream",
     "text": [
      "pdbs/1vii.pdb pdbs/1vii\n"
     ]
    }
   ],
   "source": [
    "print villin_des.pdb, villin_des.name"
   ]
  },
  {
   "cell_type": "code",
   "execution_count": 70,
   "metadata": {
    "collapsed": false
   },
   "outputs": [],
   "source": [
    "mc_villin = rd.MonteCarlo(beta=1./50, len_mc=10)"
   ]
  },
  {
   "cell_type": "code",
   "execution_count": 71,
   "metadata": {
    "collapsed": false
   },
   "outputs": [
    {
     "name": "stdout",
     "output_type": "stream",
     "text": [
      ">> Model assessment by DOPE potential\n",
      "DOPE score               : -2295.814697\n",
      "\n",
      " Iteration : 0, 35, ILE\n",
      ">> Model assessment by DOPE potential\n",
      "DOPE score               : -2310.004395\n",
      "### ACCEPT ###\n",
      "\n",
      " Iteration : 1, 35, ILE\n",
      ">> Model assessment by DOPE potential\n",
      "DOPE score               : -2315.577881\n",
      "### ACCEPT ###\n",
      "\n",
      " Iteration : 2, 13, MET\n",
      ">> Model assessment by DOPE potential\n",
      "DOPE score               : -2318.144775\n",
      "### ACCEPT ###\n",
      "\n",
      " Iteration : 3, 1, TYR\n",
      ">> Model assessment by DOPE potential\n",
      "DOPE score               : -2349.473145\n",
      "### ACCEPT ###\n",
      "\n",
      " Iteration : 4, 6, VAL\n",
      ">> Model assessment by DOPE potential\n",
      "DOPE score               : -2447.447998\n",
      "### ACCEPT ###\n",
      "\n",
      " Iteration : 5, 35, ARG\n",
      ">> Model assessment by DOPE potential\n",
      "DOPE score               : -2376.440186\n",
      "### ACCEPT ###\n",
      "\n",
      " Iteration : 6, 4, TYR\n",
      ">> Model assessment by DOPE potential\n",
      "DOPE score               : -2485.656982\n",
      "### ACCEPT ###\n",
      "\n",
      " Iteration : 7, 29, ILE\n",
      ">> Model assessment by DOPE potential\n",
      "DOPE score               : -2453.263184\n",
      "### ACCEPT ###\n",
      "\n",
      " Iteration : 8, 25, ASN\n",
      ">> Model assessment by DOPE potential\n",
      "DOPE score               : -2475.198975\n",
      "### ACCEPT ###\n",
      "\n",
      " Iteration : 9, 35, ASN\n",
      ">> Model assessment by DOPE potential\n",
      "DOPE score               : -2457.235352\n",
      "### ACCEPT ###\n"
     ]
    }
   ],
   "source": [
    "mdl, ener_mc = rd.run_mc(design=villin_des, mc=mc_villin)"
   ]
  },
  {
   "cell_type": "code",
   "execution_count": 72,
   "metadata": {
    "collapsed": false
   },
   "outputs": [
    {
     "data": {
      "text/plain": [
       "<matplotlib.text.Text at 0x11aba5f90>"
      ]
     },
     "execution_count": 72,
     "metadata": {},
     "output_type": "execute_result"
    },
    {
     "data": {
      "image/png": "[encoded data removed]",
      "text/plain": [
       "<matplotlib.figure.Figure at 0x11aac8f90>"
      ]
     },
     "metadata": {},
     "output_type": "display_data"
    }
   ],
   "source": [
    "fig, ax = plt.subplots()\n",
    "ax.plot(ener_mc)\n",
    "\n",
    "ax.set_ylabel('DOPE energy', fontsize=14)\n",
    "ax.set_xlabel('MC steps', fontsize=14)"
   ]
  },
  {
   "cell_type": "code",
   "execution_count": 64,
   "metadata": {
    "collapsed": false
   },
   "outputs": [
    {
     "name": "stdout",
     "output_type": "stream",
     "text": [
      "MLSDEDFKAVFGMTRSAFANLPLWKQQNLKKEKGLF\n",
      "MLKDGLFKAVFIMTREAFFNLPLWKQQGLKKSKGLF\n",
      "\n",
      "MLXDXXFKAVFXMTRXAFXNLPLWKQQXLKKXKGLF\n",
      "MLXDXXFKAVFXMTRXAFXNLPLWKQQXLKKXKGLF\n"
     ]
    }
   ],
   "source": [
    "import Bio.PDB\n",
    "import Bio.Seq\n",
    "import Bio.SeqUtils\n",
    "import Bio.pairwise2\n",
    "import Bio.SeqRecord\n",
    "import Bio.Align.AlignInfo\n",
    "parser = Bio.PDB.PDBParser()\n",
    "initial = parser.get_structure(\"old\", \"data/initial.pdb\")\n",
    "final = parser.get_structure(\"new\", \"data/old.pdb\")\n",
    "seq_initial= Bio.Seq.Seq(''.join([Bio.SeqUtils.seq1(x.get_resname()) for x in initial.get_residues()]))\n",
    "seq_final = Bio.Seq.Seq(''.join([Bio.SeqUtils.seq1(x.get_resname()) for x in final.get_residues()]))\n",
    "#alignments = Bio.pairwise2.align.globalms(seq_initial, seq_final, 2, -1, -5, -1)\n",
    "print seq_initial\n",
    "print seq_final\n",
    "print\n",
    "a1 = Bio.SeqRecord.SeqRecord(seq_initial)\n",
    "a2 = Bio.SeqRecord.SeqRecord(seq_final)\n",
    "align =  Bio.Align.MultipleSeqAlignment([a1,a2])\n",
    "summary_align = Bio.Align.AlignInfo.SummaryInfo(align)\n",
    "print summary_align.dumb_consensus(threshold=(0.7))\n",
    "print summary_align.dumb_consensus(threshold=(0.5))"
   ]
  },
  {
   "cell_type": "code",
   "execution_count": 65,
   "metadata": {
    "collapsed": false
   },
   "outputs": [
    {
     "ename": "SyntaxError",
     "evalue": "invalid syntax (<ipython-input-65-1cb687b07734>, line 1)",
     "output_type": "error",
     "traceback": [
      "\u001b[0;36m  File \u001b[0;32m\"<ipython-input-65-1cb687b07734>\"\u001b[0;36m, line \u001b[0;32m1\u001b[0m\n\u001b[0;31m    align.\u001b[0m\n\u001b[0m          ^\u001b[0m\n\u001b[0;31mSyntaxError\u001b[0m\u001b[0;31m:\u001b[0m invalid syntax\n"
     ]
    }
   ],
   "source": [
    "align."
   ]
  }
 ],
 "metadata": {
  "anaconda-cloud": {},
  "kernelspec": {
   "display_name": "Python [default]",
   "language": "python",
   "name": "python2"
  },
  "language_info": {
   "codemirror_mode": {
    "name": "ipython",
    "version": 2
   },
   "file_extension": ".py",
   "mimetype": "text/x-python",
   "name": "python",
   "nbconvert_exporter": "python",
   "pygments_lexer": "ipython2",
   "version": "2.7.12"
  }
 },
 "nbformat": 4,
 "nbformat_minor": 0
}
