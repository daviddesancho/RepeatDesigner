{
 "cells": [
  {
   "cell_type": "markdown",
   "metadata": {},
   "source": [
    "# Villin simple design\n",
    "Here we attempt to do the simplest possible modelling, which just tries to introduce new side chains at random that improve the total energy. We use the simple villin headpiece subdomain as an example. The more advanced usage designed for repeat proteins are not required. We use a favourite protein as a toy model."
   ]
  },
  {
   "cell_type": "code",
   "execution_count": 5,
   "metadata": {
    "collapsed": false
   },
   "outputs": [
    {
     "name": "stdout",
     "output_type": "stream",
     "text": [
      "The autoreload extension is already loaded. To reload it, use:\n",
      "  %reload_ext autoreload\n"
     ]
    }
   ],
   "source": [
    "%load_ext autoreload\n",
    "%autoreload 2\n",
    "import matplotlib.pyplot as plt\n",
    "%matplotlib inline\n",
    "import seaborn as sns\n",
    "from repeatdesigner import designer as rd"
   ]
  },
  {
   "cell_type": "markdown",
   "metadata": {},
   "source": [
    "We will optimize a single residue, which happens to have been mutated experimentally into a histidine. In this case thigs should work so that we get a rather well converged optimization. We create an instance of the Design class, defining as target residue 25 in the sequence."
   ]
  },
  {
   "cell_type": "code",
   "execution_count": 6,
   "metadata": {
    "collapsed": false
   },
   "outputs": [
    {
     "name": "stdout",
     "output_type": "stream",
     "text": [
      " Generated new protein design \n",
      " .. name : pdbs/1vii\n",
      " .. file : pdbs/1vii.pdb\n",
      " .. sequence : MLSDEDFKAVFGMTRSAFANLPLWKQQNLKKEKGLF\n",
      " .. target residues :  [27]\n"
     ]
    }
   ],
   "source": [
    "villin_des = rd.Design(pdb=\"pdbs/1vii.pdb\", targets=[27])"
   ]
  },
  {
   "cell_type": "markdown",
   "metadata": {},
   "source": [
    "Then we create the optimizer, passing arguments like the inverse temperature (`beta`) that will determine the acceptance, the length of the run (`len_mc`) and the number of runs (`nruns`, always think about your number of processors)."
   ]
  },
  {
   "cell_type": "code",
   "execution_count": 7,
   "metadata": {
    "collapsed": false,
    "scrolled": false
   },
   "outputs": [],
   "source": [
    "mc_villin = rd.Optimizer(villin_des, beta=5e-2, len_mc=50, nruns=3)\n",
    "mc_villin.run_mc()"
   ]
  },
  {
   "cell_type": "code",
   "execution_count": 8,
   "metadata": {
    "collapsed": false
   },
   "outputs": [
    {
     "name": "stdout",
     "output_type": "stream",
     "text": [
      "MLSDEDFKAVFGMTRSAFANLPLWKQQFLKKEKGLF [[-1207.2847900390625], [-1207.2847900390625], [-1207.2847900390625], [-1207.2847900390625], [-1207.2847900390625], [-1207.2847900390625], [-1207.2847900390625], [-1207.2847900390625], [-1207.2847900390625], [-1207.2847900390625], [-1207.2847900390625], [-1236.9210205078125], [-1236.9210205078125], [-1236.9210205078125], [-1242.2457275390625], [-1242.2457275390625], [-1242.2457275390625], [-1242.2457275390625], [-1242.2457275390625], [-1242.2457275390625], [-1242.2457275390625], [-1165.716064453125], [-1165.716064453125], [-1165.716064453125], [-1165.716064453125], [-1165.716064453125], [-1208.1278076171875], [-1208.1278076171875], [-1254.5955810546875], [-1254.5955810546875], [-1254.5955810546875], [-1254.5955810546875], [-1254.5955810546875], [-1254.5955810546875], [-1254.5955810546875], [-1254.5955810546875], [-1254.5955810546875], [-1254.5955810546875], [-1254.5955810546875], [-1254.5955810546875], [-1254.5955810546875], [-1254.5955810546875], [-1254.5955810546875], [-1254.5955810546875], [-1254.5955810546875], [-1254.5955810546875], [-1254.5955810546875], [-1254.5955810546875], [-1254.5955810546875], [-1254.5955810546875], [-1254.5955810546875]]\n",
      "MLSDEDFKAVFGMTRSAFANLPLWKQQCLKKEKGLF [[-1207.2847900390625], [-1244.387451171875], [-1244.387451171875], [-1204.33203125], [-1184.7325439453125], [-1184.7325439453125], [-1184.7325439453125], [-1184.7325439453125], [-1184.7325439453125], [-1184.7325439453125], [-1184.7325439453125], [-1184.7325439453125], [-1197.38818359375], [-1197.38818359375], [-1197.38818359375], [-1197.38818359375], [-1197.38818359375], [-1197.38818359375], [-1186.4239501953125], [-1186.4239501953125], [-1186.4239501953125], [-1277.8663330078125], [-1277.8663330078125], [-1277.8663330078125], [-1277.8663330078125], [-1277.8663330078125], [-1277.8663330078125], [-1277.8663330078125], [-1277.8663330078125], [-1277.8663330078125], [-1277.8663330078125], [-1277.8663330078125], [-1277.8663330078125], [-1277.8663330078125], [-1277.8663330078125], [-1277.8663330078125], [-1277.8663330078125], [-1277.8663330078125], [-1277.8663330078125], [-1277.8663330078125], [-1277.8663330078125], [-1277.8663330078125], [-1277.8663330078125], [-1277.8663330078125], [-1277.8663330078125], [-1277.8663330078125], [-1295.840576171875], [-1295.840576171875], [-1295.840576171875], [-1295.840576171875], [-1295.840576171875]]\n",
      "MLSDEDFKAVFGMTRSAFANLPLWKQQNLKKEKGLF [[-1207.2847900390625], [-1207.2847900390625], [-1207.2847900390625], [-1298.8775634765625], [-1298.8775634765625], [-1298.8775634765625], [-1298.8775634765625], [-1298.8775634765625], [-1298.8775634765625], [-1298.8775634765625], [-1298.8775634765625], [-1298.8775634765625], [-1298.8775634765625], [-1298.8775634765625], [-1298.8775634765625], [-1298.8775634765625], [-1298.8775634765625], [-1298.8775634765625], [-1298.8775634765625], [-1298.8775634765625], [-1298.8775634765625], [-1298.8775634765625], [-1298.8775634765625], [-1298.8775634765625], [-1298.8775634765625], [-1298.8775634765625], [-1298.8775634765625], [-1298.8775634765625], [-1298.8775634765625], [-1298.8775634765625], [-1298.8775634765625], [-1298.8775634765625], [-1298.8775634765625], [-1298.8775634765625], [-1298.8775634765625], [-1298.8775634765625], [-1298.8775634765625], [-1298.8775634765625], [-1298.8775634765625], [-1298.8775634765625], [-1298.8775634765625], [-1298.8775634765625], [-1298.8775634765625], [-1298.8775634765625], [-1298.8775634765625], [-1298.8775634765625], [-1298.8775634765625], [-1298.8775634765625], [-1298.8775634765625], [-1296.0177001953125], [-1296.0177001953125]]\n"
     ]
    },
    {
     "data": {
      "text/plain": [
       "<matplotlib.text.Text at 0x1197517d0>"
      ]
     },
     "execution_count": 8,
     "metadata": {},
     "output_type": "execute_result"
    },
    {
     "data": {
      "image/png": "[encoded data removed]",
      "text/plain": [
       "<matplotlib.figure.Figure at 0x119901590>"
      ]
     },
     "metadata": {},
     "output_type": "display_data"
    }
   ],
   "source": [
    "fig, ax = plt.subplots()\n",
    "for k,v in mc_villin.models.iteritems():\n",
    "    ax.plot(v['score'])\n",
    "    print v['seq'], v['score']\n",
    "ax.set_ylabel('Energy', fontsize=14)\n",
    "ax.set_xlabel('MC steps', fontsize=14)"
   ]
  },
  {
   "cell_type": "code",
   "execution_count": 9,
   "metadata": {
    "collapsed": false
   },
   "outputs": [
    {
     "ename": "KeyError",
     "evalue": "'model'",
     "output_type": "error",
     "traceback": [
      "\u001b[0;31m---------------------------------------------------------------------------\u001b[0m",
      "\u001b[0;31mKeyError\u001b[0m                                  Traceback (most recent call last)",
      "\u001b[0;32m<ipython-input-9-d98046c78535>\u001b[0m in \u001b[0;36m<module>\u001b[0;34m()\u001b[0m\n\u001b[1;32m      6\u001b[0m \u001b[0;32mimport\u001b[0m \u001b[0mBio\u001b[0m\u001b[0;34m.\u001b[0m\u001b[0mAlign\u001b[0m\u001b[0;34m.\u001b[0m\u001b[0mAlignInfo\u001b[0m\u001b[0;34m\u001b[0m\u001b[0m\n\u001b[1;32m      7\u001b[0m \u001b[0;32mfor\u001b[0m \u001b[0mk\u001b[0m\u001b[0;34m,\u001b[0m\u001b[0mv\u001b[0m \u001b[0;32min\u001b[0m \u001b[0mmc_villin\u001b[0m\u001b[0;34m.\u001b[0m\u001b[0mmodels\u001b[0m\u001b[0;34m.\u001b[0m\u001b[0miteritems\u001b[0m\u001b[0;34m(\u001b[0m\u001b[0;34m)\u001b[0m\u001b[0;34m:\u001b[0m\u001b[0;34m\u001b[0m\u001b[0m\n\u001b[0;32m----> 8\u001b[0;31m     \u001b[0;32mprint\u001b[0m \u001b[0;34m\"%3i %10.2f %s\"\u001b[0m\u001b[0;34m%\u001b[0m\u001b[0;34m(\u001b[0m\u001b[0mk\u001b[0m\u001b[0;34m,\u001b[0m \u001b[0mv\u001b[0m\u001b[0;34m[\u001b[0m\u001b[0;34m'score'\u001b[0m\u001b[0;34m]\u001b[0m\u001b[0;34m[\u001b[0m\u001b[0;34m-\u001b[0m\u001b[0;36m1\u001b[0m\u001b[0;34m]\u001b[0m\u001b[0;34m[\u001b[0m\u001b[0;36m0\u001b[0m\u001b[0;34m]\u001b[0m\u001b[0;34m,\u001b[0m         \u001b[0mBio\u001b[0m\u001b[0;34m.\u001b[0m\u001b[0mSeq\u001b[0m\u001b[0;34m.\u001b[0m\u001b[0mSeq\u001b[0m\u001b[0;34m(\u001b[0m\u001b[0;34m''\u001b[0m\u001b[0;34m.\u001b[0m\u001b[0mjoin\u001b[0m\u001b[0;34m(\u001b[0m\u001b[0;34m[\u001b[0m\u001b[0mBio\u001b[0m\u001b[0;34m.\u001b[0m\u001b[0mSeqUtils\u001b[0m\u001b[0;34m.\u001b[0m\u001b[0mseq1\u001b[0m\u001b[0;34m(\u001b[0m\u001b[0mx\u001b[0m\u001b[0;34m.\u001b[0m\u001b[0mget_resname\u001b[0m\u001b[0;34m(\u001b[0m\u001b[0;34m)\u001b[0m\u001b[0;34m)\u001b[0m                     \u001b[0;32mfor\u001b[0m \u001b[0mx\u001b[0m \u001b[0;32min\u001b[0m \u001b[0mv\u001b[0m\u001b[0;34m[\u001b[0m\u001b[0;34m'model'\u001b[0m\u001b[0;34m]\u001b[0m\u001b[0;34m.\u001b[0m\u001b[0mget_residues\u001b[0m\u001b[0;34m(\u001b[0m\u001b[0;34m)\u001b[0m\u001b[0;34m]\u001b[0m\u001b[0;34m)\u001b[0m\u001b[0;34m)\u001b[0m\u001b[0;34m)\u001b[0m\u001b[0;34m\u001b[0m\u001b[0m\n\u001b[0m",
      "\u001b[0;31mKeyError\u001b[0m: 'model'"
     ]
    }
   ],
   "source": [
    "import Bio.PDB\n",
    "import Bio.Seq\n",
    "import Bio.SeqUtils\n",
    "import Bio.pairwise2\n",
    "import Bio.SeqRecord\n",
    "import Bio.Align.AlignInfo\n",
    "for k,v in mc_villin.models.iteritems():\n",
    "    print \"%3i %10.2f %s\"%(k, v['score'][-1][0], \\\n",
    "        Bio.Seq.Seq(''.join([Bio.SeqUtils.seq1(x.get_resname()) \\\n",
    "                    for x in v['model'].get_residues()])))"
   ]
  },
  {
   "cell_type": "code",
   "execution_count": null,
   "metadata": {
    "collapsed": false
   },
   "outputs": [],
   "source": [
    "sequences = [Bio.SeqRecord.SeqRecord(Bio.Seq.Seq(''.join([Bio.SeqUtils.seq1(x.get_resname()) \\\n",
    "                    for x in v['model'].get_residues()]))) \\\n",
    "             for k, v in mc_villin.models.iteritems() if v['score'][-1][0]<-1200.]\n",
    "print sequences\n",
    "align =  Bio.Align.MultipleSeqAlignment(sequences)\n",
    "summary_align = Bio.Align.AlignInfo.SummaryInfo(align)\n",
    "print villin_des.seq\n",
    "print summary_align.dumb_consensus(threshold=(0.1))\n",
    "print summary_align.dumb_consensus(threshold=(0.2))\n",
    "print summary_align.dumb_consensus(threshold=(0.5))\n",
    "print summary_align.dumb_consensus(threshold=(0.9))"
   ]
  },
  {
   "cell_type": "code",
   "execution_count": null,
   "metadata": {
    "collapsed": true
   },
   "outputs": [],
   "source": []
  }
 ],
 "metadata": {
  "anaconda-cloud": {},
  "kernelspec": {
   "display_name": "Python [default]",
   "language": "python",
   "name": "python2"
  },
  "language_info": {
   "codemirror_mode": {
    "name": "ipython",
    "version": 2
   },
   "file_extension": ".py",
   "mimetype": "text/x-python",
   "name": "python",
   "nbconvert_exporter": "python",
   "pygments_lexer": "ipython2",
   "version": "2.7.12"
  }
 },
 "nbformat": 4,
 "nbformat_minor": 0
}
