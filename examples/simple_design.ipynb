{
 "cells": [
  {
   "cell_type": "markdown",
   "metadata": {},
   "source": [
    "# Villin simple design\n",
    "Here we attempt to do the simplest possible modelling, which just tries to model new side chains at random that improve the total energy. We use the simple villin headpiece subdomain as an example. Here, the specifics for repeat proteins are not required. We use a favourite protein as a toy model."
   ]
  },
  {
   "cell_type": "code",
   "execution_count": 108,
   "metadata": {
    "collapsed": false
   },
   "outputs": [
    {
     "name": "stdout",
     "output_type": "stream",
     "text": [
      "The autoreload extension is already loaded. To reload it, use:\n",
      "  %reload_ext autoreload\n"
     ]
    }
   ],
   "source": [
    "%load_ext autoreload\n",
    "%autoreload 2\n",
    "import matplotlib.pyplot as plt\n",
    "%matplotlib inline\n",
    "import seaborn as sns"
   ]
  },
  {
   "cell_type": "code",
   "execution_count": 109,
   "metadata": {
    "collapsed": false
   },
   "outputs": [],
   "source": [
    "from repeatdesigner import designer as rd"
   ]
  },
  {
   "cell_type": "code",
   "execution_count": 110,
   "metadata": {
    "collapsed": false
   },
   "outputs": [
    {
     "name": "stdout",
     "output_type": "stream",
     "text": [
      " Generated new protein design \n",
      " .. name : pdbs/1vii\n",
      " .. file : pdbs/1vii.pdb\n",
      " .. sequence : MLSDEDFKAVFGMTRSAFANLPLWKQQNLKKEKGLF\n",
      " .. target residues :  [20, 21, 22, 23, 24, 25, 26, 27, 28, 29, 30, 31, 32, 33, 34, 35]\n"
     ]
    }
   ],
   "source": [
    "villin_des = rd.Design(pdb=\"pdbs/1vii.pdb\", targets=range(20,36))"
   ]
  },
  {
   "cell_type": "code",
   "execution_count": null,
   "metadata": {
    "collapsed": false
   },
   "outputs": [],
   "source": [
    "mc_villin = rd.Optimizer(villin_des, beta=10, len_mc=100, nruns=3)"
   ]
  },
  {
   "cell_type": "code",
   "execution_count": null,
   "metadata": {
    "collapsed": false,
    "scrolled": false
   },
   "outputs": [],
   "source": [
    "results = mc_villin.run_mc()"
   ]
  },
  {
   "cell_type": "code",
   "execution_count": null,
   "metadata": {
    "collapsed": false
   },
   "outputs": [],
   "source": [
    "fig, ax = plt.subplots()\n",
    "for k,v in mc_villin.models.iteritems():\n",
    "    print k\n",
    "    ax.plot(v['score'])\n",
    "\n",
    "ax.set_ylabel('DOPE energy', fontsize=14)\n",
    "ax.set_xlabel('MC steps', fontsize=14)"
   ]
  },
  {
   "cell_type": "code",
   "execution_count": null,
   "metadata": {
    "collapsed": false
   },
   "outputs": [],
   "source": [
    "fig, ax = plt.subplots()\n",
    "for k,v in mc_villin.models.iteritems():\n",
    "    print k\n",
    "    print v\n",
    "\n",
    "ax.set_ylabel('DOPE energy', fontsize=14)\n",
    "ax.set_xlabel('MC steps', fontsize=14)"
   ]
  },
  {
   "cell_type": "code",
   "execution_count": null,
   "metadata": {
    "collapsed": false
   },
   "outputs": [],
   "source": [
    "mdl = mc_villin.models[0]['model']\n",
    "print mdl"
   ]
  },
  {
   "cell_type": "code",
   "execution_count": null,
   "metadata": {
    "collapsed": false
   },
   "outputs": [],
   "source": [
    "import Bio.PDB\n",
    "import Bio.Seq\n",
    "import Bio.SeqUtils\n",
    "import Bio.pairwise2\n",
    "import Bio.SeqRecord\n",
    "import Bio.Align.AlignInfo\n",
    "parser = Bio.PDB.PDBParser()\n",
    "initial = parser.get_structure(\"old\", \"data/initial.pdb\")\n",
    "final = parser.get_structure(\"new\", \"data/old.pdb\")\n",
    "seq_initial= Bio.Seq.Seq(''.join([Bio.SeqUtils.seq1(x.get_resname()) for x in initial.get_residues()]))\n",
    "seq_final = Bio.Seq.Seq(''.join([Bio.SeqUtils.seq1(x.get_resname()) for x in final.get_residues()]))\n",
    "#alignments = Bio.pairwise2.align.globalms(seq_initial, seq_final, 2, -1, -5, -1)\n",
    "print seq_initial\n",
    "print seq_final\n",
    "print\n",
    "a1 = Bio.SeqRecord.SeqRecord(seq_initial)\n",
    "a2 = Bio.SeqRecord.SeqRecord(seq_final)\n",
    "align =  Bio.Align.MultipleSeqAlignment([a1,a2])\n",
    "summary_align = Bio.Align.AlignInfo.SummaryInfo(align)\n",
    "print summary_align.dumb_consensus(threshold=(0.7))\n",
    "print summary_align.dumb_consensus(threshold=(0.5))"
   ]
  },
  {
   "cell_type": "code",
   "execution_count": null,
   "metadata": {
    "collapsed": false
   },
   "outputs": [],
   "source": [
    "align."
   ]
  }
 ],
 "metadata": {
  "anaconda-cloud": {},
  "kernelspec": {
   "display_name": "Python 2",
   "language": "python",
   "name": "python2"
  },
  "language_info": {
   "codemirror_mode": {
    "name": "ipython",
    "version": 2
   },
   "file_extension": ".py",
   "mimetype": "text/x-python",
   "name": "python",
   "nbconvert_exporter": "python",
   "pygments_lexer": "ipython2",
   "version": "2.7.12"
  }
 },
 "nbformat": 4,
 "nbformat_minor": 0
}
