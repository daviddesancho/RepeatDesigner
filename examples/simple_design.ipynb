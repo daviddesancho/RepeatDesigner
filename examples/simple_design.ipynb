{
 "cells": [
  {
   "cell_type": "markdown",
   "metadata": {},
   "source": [
    "# Villin simple design\n",
    "Here we attempt to do the simplest possible modelling, which just tries to model new side chains at random that improve the total energy. We use the simple villin headpiece subdomain as an example. Here, the specifics for repeat proteins are not required. We use a favourite protein as a toy model."
   ]
  },
  {
   "cell_type": "code",
   "execution_count": 1,
   "metadata": {
    "collapsed": false
   },
   "outputs": [
    {
     "name": "stdout",
     "output_type": "stream",
     "text": [
      "The autoreload extension is already loaded. To reload it, use:\n",
      "  %reload_ext autoreload\n"
     ]
    }
   ],
   "source": [
    "%load_ext autoreload\n",
    "%autoreload 2\n",
    "import matplotlib.pyplot as plt\n",
    "%matplotlib inline\n",
    "import seaborn as sns"
   ]
  },
  {
   "cell_type": "code",
   "execution_count": 2,
   "metadata": {
    "collapsed": false
   },
   "outputs": [],
   "source": [
    "from repeatdesigner import designer as rd"
   ]
  },
  {
   "cell_type": "code",
   "execution_count": 16,
   "metadata": {
    "collapsed": false
   },
   "outputs": [
    {
     "name": "stdout",
     "output_type": "stream",
     "text": [
      " Generated new protein design \n",
      " .. name : pdbs/1vii\n",
      " .. file : pdbs/1vii.pdb\n",
      " .. sequence : MLSDEDFKAVFGMTRSAFANLPLWKQQNLKKEKGLF\n",
      " .. target residues :  [4, 5, 6, 7, 8, 15, 16, 17, 22, 23]\n"
     ]
    }
   ],
   "source": [
    "helical = [4,5,6,7,8,15,16,17,22,23,24,25,26,27,28,29,30,31]\n",
    "villin_des = rd.Design(pdb=\"pdbs/1vii.pdb\", targets=helical[0:10])"
   ]
  },
  {
   "cell_type": "code",
   "execution_count": 21,
   "metadata": {
    "collapsed": false
   },
   "outputs": [],
   "source": [
    "mc_villin = rd.Optimizer(villin_des, beta=0.01, len_mc=3, nruns=3)"
   ]
  },
  {
   "cell_type": "code",
   "execution_count": 23,
   "metadata": {
    "collapsed": false,
    "scrolled": false
   },
   "outputs": [
    {
     "name": "stdout",
     "output_type": "stream",
     "text": [
      ">> Model assessment by DOPE potential\n",
      "DOPE score               : -2295.814697\n",
      "0 atoms in HETATM/BLK residues constrained\n",
      "to protein atoms within 2.30 angstroms\n",
      "and protein CA atoms within 10.00 angstroms\n",
      "0 atoms in residues without defined topology\n",
      "constrained to be rigid bodies\n",
      "\n",
      ">> Summary of successfully produced models:\n",
      "Filename                          molpdf\n",
      "----------------------------------------\n",
      "data/mut.B99990001.pdb         257.18289\n",
      "\n",
      ">> Model assessment by DOPE potential\n",
      "DOPE score               : -3084.103271\n",
      "### ACCEPT ###\n"
     ]
    },
    {
     "ename": "NameError",
     "evalue": "global name 'contibs' is not defined",
     "output_type": "error",
     "traceback": [
      "\u001b[0;31m---------------------------------------------------------------------------\u001b[0m",
      "\u001b[0;31mNameError\u001b[0m                                 Traceback (most recent call last)",
      "\u001b[0;32m<ipython-input-23-9c54813ab8fc>\u001b[0m in \u001b[0;36m<module>\u001b[0;34m()\u001b[0m\n\u001b[0;32m----> 1\u001b[0;31m \u001b[0mmc_villin\u001b[0m\u001b[0;34m.\u001b[0m\u001b[0mrun_mc\u001b[0m\u001b[0;34m(\u001b[0m\u001b[0;34m)\u001b[0m\u001b[0;34m\u001b[0m\u001b[0m\n\u001b[0m",
      "\u001b[0;32m/Users/daviddesancho/Research/code/RepeatDesigner/repeatdesigner/designer.pyc\u001b[0m in \u001b[0;36mrun_mc\u001b[0;34m(self)\u001b[0m\n\u001b[1;32m    185\u001b[0m         \u001b[0;31m#pool.join()\u001b[0m\u001b[0;34m\u001b[0m\u001b[0;34m\u001b[0m\u001b[0m\n\u001b[1;32m    186\u001b[0m         \u001b[0;32mfor\u001b[0m \u001b[0mx\u001b[0m \u001b[0;32min\u001b[0m \u001b[0mrange\u001b[0m\u001b[0;34m(\u001b[0m\u001b[0mself\u001b[0m\u001b[0;34m.\u001b[0m\u001b[0mnruns\u001b[0m\u001b[0;34m)\u001b[0m\u001b[0;34m:\u001b[0m\u001b[0;34m\u001b[0m\u001b[0m\n\u001b[0;32m--> 187\u001b[0;31m             \u001b[0mresults\u001b[0m\u001b[0;34m.\u001b[0m\u001b[0mappend\u001b[0m\u001b[0;34m(\u001b[0m\u001b[0mdesignlib\u001b[0m\u001b[0;34m.\u001b[0m\u001b[0mmodel_mc_worker\u001b[0m\u001b[0;34m(\u001b[0m\u001b[0minput_des\u001b[0m\u001b[0;34m[\u001b[0m\u001b[0mx\u001b[0m\u001b[0;34m]\u001b[0m\u001b[0;34m)\u001b[0m\u001b[0;34m)\u001b[0m\u001b[0;34m\u001b[0m\u001b[0m\n\u001b[0m\u001b[1;32m    188\u001b[0m \u001b[0;34m\u001b[0m\u001b[0m\n\u001b[1;32m    189\u001b[0m         \u001b[0;31m# Parse results\u001b[0m\u001b[0;34m\u001b[0m\u001b[0;34m\u001b[0m\u001b[0m\n",
      "\u001b[0;32m/Users/daviddesancho/Research/code/RepeatDesigner/repeatdesigner/designlib.py\u001b[0m in \u001b[0;36mmodel_mc_worker\u001b[0;34m(mc_input)\u001b[0m\n\u001b[1;32m     72\u001b[0m         \u001b[0;31m# standard acceptance rejection criterion\u001b[0m\u001b[0;34m\u001b[0m\u001b[0;34m\u001b[0m\u001b[0m\n\u001b[1;32m     73\u001b[0m         seq_prev, ener_prev, contribs = boltzmann(ener, \\\n\u001b[0;32m---> 74\u001b[0;31m                 ener_prev, seq, seq_prev, beta)\n\u001b[0m\u001b[1;32m     75\u001b[0m \u001b[0;34m\u001b[0m\u001b[0m\n\u001b[1;32m     76\u001b[0m \u001b[0;31m#        current = 'data/old%g.pdb'%run\u001b[0m\u001b[0;34m\u001b[0m\u001b[0;34m\u001b[0m\u001b[0m\n",
      "\u001b[0;32m/Users/daviddesancho/Research/code/RepeatDesigner/repeatdesigner/designlib.py\u001b[0m in \u001b[0;36mboltzmann\u001b[0;34m(ener, ener_prev, seq, seq_prev, beta)\u001b[0m\n\u001b[1;32m    248\u001b[0m             \u001b[0;31m#current = 'data/old%g.pdb'%run\u001b[0m\u001b[0;34m\u001b[0m\u001b[0;34m\u001b[0m\u001b[0m\n\u001b[1;32m    249\u001b[0m             \u001b[0mcontribs\u001b[0m \u001b[0;34m=\u001b[0m \u001b[0;34m[\u001b[0m\u001b[0mener_prev\u001b[0m\u001b[0;34m]\u001b[0m\u001b[0;34m\u001b[0m\u001b[0m\n\u001b[0;32m--> 250\u001b[0;31m     \u001b[0;32mreturn\u001b[0m \u001b[0mseq_prev\u001b[0m\u001b[0;34m,\u001b[0m \u001b[0mener_prev\u001b[0m\u001b[0;34m,\u001b[0m \u001b[0mcontibs\u001b[0m\u001b[0;34m\u001b[0m\u001b[0m\n\u001b[0m\u001b[1;32m    251\u001b[0m \u001b[0;34m\u001b[0m\u001b[0m\n",
      "\u001b[0;31mNameError\u001b[0m: global name 'contibs' is not defined"
     ]
    }
   ],
   "source": [
    "mc_villin.run_mc()"
   ]
  },
  {
   "cell_type": "code",
   "execution_count": null,
   "metadata": {
    "collapsed": false
   },
   "outputs": [],
   "source": [
    "fig, ax = plt.subplots()\n",
    "for k,v in mc_villin.models.iteritems():\n",
    "    ax.plot(v['score'])\n",
    "\n",
    "ax.set_ylabel('DOPE energy', fontsize=14)\n",
    "ax.set_xlabel('MC steps', fontsize=14)"
   ]
  },
  {
   "cell_type": "code",
   "execution_count": null,
   "metadata": {
    "collapsed": false
   },
   "outputs": [],
   "source": [
    "import Bio.PDB\n",
    "import Bio.Seq\n",
    "import Bio.SeqUtils\n",
    "import Bio.pairwise2\n",
    "import Bio.SeqRecord\n",
    "import Bio.Align.AlignInfo\n",
    "for k,v in mc_villin.models.iteritems():\n",
    "    print \"%3i %10.2f %s\"%(k, v['score'][-1][0], \\\n",
    "        Bio.Seq.Seq(''.join([Bio.SeqUtils.seq1(x.get_resname()) \\\n",
    "                    for x in v['model'].get_residues()])))"
   ]
  },
  {
   "cell_type": "code",
   "execution_count": null,
   "metadata": {
    "collapsed": false
   },
   "outputs": [],
   "source": [
    "sequences = [Bio.SeqRecord.SeqRecord(Bio.Seq.Seq(''.join([Bio.SeqUtils.seq1(x.get_resname()) \\\n",
    "                    for x in v['model'].get_residues()]))) for k, v in mc_villin.models.iteritems() if v['score'][-1][0]<-3200.]\n",
    "align =  Bio.Align.MultipleSeqAlignment(sequences)\n",
    "summary_align = Bio.Align.AlignInfo.SummaryInfo(align)\n",
    "print villin_des.seq\n",
    "print summary_align.dumb_consensus(threshold=(0.1))\n",
    "print summary_align.dumb_consensus(threshold=(0.2))\n",
    "print summary_align.dumb_consensus(threshold=(0.5))\n"
   ]
  },
  {
   "cell_type": "code",
   "execution_count": null,
   "metadata": {
    "collapsed": false
   },
   "outputs": [],
   "source": [
    "len(sequences)*0.2"
   ]
  },
  {
   "cell_type": "code",
   "execution_count": null,
   "metadata": {
    "collapsed": true
   },
   "outputs": [],
   "source": []
  }
 ],
 "metadata": {
  "anaconda-cloud": {},
  "kernelspec": {
   "display_name": "Python [default]",
   "language": "python",
   "name": "python2"
  },
  "language_info": {
   "codemirror_mode": {
    "name": "ipython",
    "version": 2
   },
   "file_extension": ".py",
   "mimetype": "text/x-python",
   "name": "python",
   "nbconvert_exporter": "python",
   "pygments_lexer": "ipython2",
   "version": "2.7.12"
  }
 },
 "nbformat": 4,
 "nbformat_minor": 0
}
