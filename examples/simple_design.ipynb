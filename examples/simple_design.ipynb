{
 "cells": [
  {
   "cell_type": "markdown",
   "metadata": {},
   "source": [
    "# Villin simple design\n",
    "Here we attempt to do the simplest possible modelling, which just tries to model new side chains at random that improve the total energy. We use the simple villin headpiece subdomain as an example. Here, the specifics for repeat proteins are not required. We use a favourite protein as a toy model."
   ]
  },
  {
   "cell_type": "code",
   "execution_count": 16,
   "metadata": {
    "collapsed": false
   },
   "outputs": [
    {
     "name": "stdout",
     "output_type": "stream",
     "text": [
      "The autoreload extension is already loaded. To reload it, use:\n",
      "  %reload_ext autoreload\n"
     ]
    }
   ],
   "source": [
    "%load_ext autoreload\n",
    "%autoreload 2\n",
    "import matplotlib.pyplot as plt\n",
    "%matplotlib inline\n",
    "import seaborn as sns"
   ]
  },
  {
   "cell_type": "code",
   "execution_count": 17,
   "metadata": {
    "collapsed": false
   },
   "outputs": [],
   "source": [
    "from repeatdesigner import designer as rd"
   ]
  },
  {
   "cell_type": "code",
   "execution_count": 18,
   "metadata": {
    "collapsed": false
   },
   "outputs": [
    {
     "name": "stdout",
     "output_type": "stream",
     "text": [
      " Generated new protein design \n",
      " .. name : pdbs/1vii\n",
      " .. file : pdbs/1vii.pdb\n",
      " .. sequence : MLSDEDFKAVFGMTRSAFANLPLWKQQNLKKEKGLF\n",
      " .. target residues :  [4, 5, 6, 7, 8, 15, 16, 17, 22, 23, 24, 25, 26, 27, 28, 29, 30, 31]\n"
     ]
    }
   ],
   "source": [
    "helical = [4,5,6,7,8,15,16,17,22,23,24,25,26,27,28,29,30,31]\n",
    "villin_des = rd.Design(pdb=\"pdbs/1vii.pdb\", targets=helical)"
   ]
  },
  {
   "cell_type": "code",
   "execution_count": 19,
   "metadata": {
    "collapsed": false
   },
   "outputs": [],
   "source": [
    "mc_villin = rd.Optimizer(villin_des, beta=0.01, len_mc=100, nruns=10, energy='global')"
   ]
  },
  {
   "cell_type": "code",
   "execution_count": null,
   "metadata": {
    "collapsed": false,
    "scrolled": false
   },
   "outputs": [],
   "source": [
    "mc_villin.run_mc()"
   ]
  },
  {
   "cell_type": "code",
   "execution_count": null,
   "metadata": {
    "collapsed": false
   },
   "outputs": [],
   "source": [
    "fig, ax = plt.subplots()\n",
    "for k,v in mc_villin.models.iteritems():\n",
    "    ax.plot(v['score'])\n",
    "\n",
    "ax.set_ylabel('DOPE energy', fontsize=14)\n",
    "ax.set_xlabel('MC steps', fontsize=14)"
   ]
  },
  {
   "cell_type": "code",
   "execution_count": 47,
   "metadata": {
    "collapsed": false
   },
   "outputs": [
    {
     "name": "stdout",
     "output_type": "stream",
     "text": [
      "  0   -3236.22 MLSRTEWVAVFGMTWHAFANLKPTWYCKWTHEKGLF\n",
      "  1   -3497.37 MLSIELWVAVFGMTYFEFANLRFWDPSQLYFEKGLF\n",
      "  2   -3058.84 MLSWLPSFAVFGMTCWRFANLTLRHATEWNTEKGLF\n",
      "  3   -3125.24 MLSCVQTMAVFGMTCNLFANLDCPEYIPFLCEKGLF\n",
      "  4   -3701.52 MLSMRYMLAVFGMTFCNFANLPKFVCLILVYEKGLF\n",
      "  5   -3161.66 MLSWMVHWAVFGMTPIMFANLFCRIQKFVMCEKGLF\n",
      "  6   -3584.51 MLSQPFIYAVFGMTWYWFANLDFWWLTKTCREKGLF\n",
      "  7   -3895.13 MLSLNSFLAVFGMTFTLFANLPHCRWLYVFWEKGLF\n",
      "  8   -3372.93 MLSDNERWAVFGMTMLYFANLFYFWADYCLIEKGLF\n",
      "  9   -3288.98 MLSCCYLWAVFGMTSTKFANLGTRIWEWPFKEKGLF\n",
      " 10   -3274.97 MLSLCYVKAVFGMTFKHFANLTIPKVKGLMVEKGLF\n",
      " 11   -2815.23 MLSPKLTYAVFGMTETWFANLHWVMEFKRQPEKGLF\n",
      " 12   -3432.83 MLSGTLRHAVFGMTAYKFANLFLWLLFWWFKEKGLF\n",
      " 13   -2987.80 MLSEFFQAAVFGMTRSRFANLFWKFYYLIGDEKGLF\n",
      " 14   -3396.19 MLSSGMEYAVFGMTIKYFANLAHCYIFRYIFEKGLF\n",
      " 15   -3447.30 MLSCKFLQAVFGMTVWSFANLDPVQRYEVLWEKGLF\n",
      " 16   -3370.82 MLSYGVSWAVFGMTRLWFANLMYWKIMICIHEKGLF\n",
      " 17   -2841.35 MLSPWNSHAVFGMTDTEFANLFQAVERDYTFEKGLF\n",
      " 18   -3332.18 MLSVAWWVAVFGMTKNYFANLVWDWWIRLNLEKGLF\n",
      " 19   -3181.67 MLSFHFLNAVFGMTYHWFANLYTRGLVMVEPEKGLF\n",
      " 20   -3213.65 MLSYYPNCAVFGMTPFAFANLKWEFMILLWGEKGLF\n",
      " 21   -3599.29 MLSRKYQFAVFGMTIFWFANLYVHTHYRWLHEKGLF\n",
      " 22   -3300.54 MLSVLSYWAVFGMTLYAFANLHKCSIEMQYWEKGLF\n",
      " 23   -3005.20 MLSTMCYRAVFGMTLLRFANLGYRDIVISKWEKGLF\n",
      " 24   -3581.17 MLSCHYFPAVFGMTLSHFANLFAWYVQCWILEKGLF\n",
      " 25   -3453.40 MLSHDRFWAVFGMTMFWFANLARRHNQRLWYEKGLF\n",
      " 26   -3000.94 MLSCFTKTAVFGMTWAGFANLNDPFLPCVLKEKGLF\n",
      " 27   -2905.48 MLSELKMDAVFGMTPKNFANLTLSTNQWYLAEKGLF\n",
      " 28   -3407.80 MLSPFLYCAVFGMTVFTFANLYRTCMFNCWPEKGLF\n",
      " 29   -3533.32 MLSYHCHYAVFGMTVQYFANLADHYKFKWFIEKGLF\n",
      " 30   -3485.22 MLSRCLMYAVFGMTWLMFANLQAYSWCGWIGEKGLF\n",
      " 31   -3230.59 MLSCGVLFAVFGMTFEPFANLDDLHIRMIALEKGLF\n",
      " 32   -3369.96 MLSSAWMYAVFGMTTWYFANLSWIFHWLLAREKGLF\n",
      " 33   -3599.04 MLSYADVLAVFGMTWSQFANLMWGFCVRYCFEKGLF\n",
      " 34   -2989.63 MLSYDMYHAVFGMTFRVFANLLWHFPKMHTHEKGLF\n",
      " 35   -3598.78 MLSFTWFTAVFGMTWFQFANLNYLTYPMYIIEKGLF\n",
      " 36   -3379.40 MLSRCYWMAVFGMTPVNFANLLYHMVWIYCFEKGLF\n",
      " 37   -3336.70 MLSMEIYEAVFGMTQFYFANLHWAYLTELIWEKGLF\n",
      " 38   -3350.82 MLSREKINAVFGMTSPHFANLSWFQFMFWLKEKGLF\n",
      " 39   -3614.63 MLSGVYHDAVFGMTFDIFANLNITFFYLYWYEKGLF\n",
      " 40   -3538.69 MLSHLPAMAVFGMTLIFFANLMRLFYWVCFFEKGLF\n",
      " 41   -3443.72 MLSMAVIKAVFGMTYHDFANLISCLWFNVMLEKGLF\n",
      " 42   -3726.64 MLSLPWTHAVFGMTFYTFANLFEYIWHHFVIEKGLF\n",
      " 43   -3075.77 MLSFFFYHAVFGMTCWWFANLAFMHVCMEQTEKGLF\n",
      " 44   -3765.59 MLSPVFCYAVFGMTVWHFANLPLFYQVNWWLEKGLF\n",
      " 45   -3225.86 MLSYHENVAVFGMTERVFANLYLWVIHTVFMEKGLF\n",
      " 46   -3476.59 MLSGRWIKAVFGMTIRMFANLAWHFLIQYHLEKGLF\n",
      " 47   -3034.60 MLSHWDHQAVFGMTKEYFANLHFEYYTPIIREKGLF\n",
      " 48   -3468.45 MLSMYTQWAVFGMTWRWFANLMKYKVQHLFREKGLF\n",
      " 49   -3488.78 MLSYLIMWAVFGMTWYQFANLHCACGSWLVNEKGLF\n",
      " 50   -3582.74 MLSHMMVRAVFGMTLHWFANLSDYILKVIYWEKGLF\n",
      " 51   -3618.51 MLSWLLMSAVFGMTWVWFANLFWIFVRPFTFEKGLF\n",
      " 52   -3438.62 MLSMLWMAAVFGMTYPYFANLCMNINIMLFTEKGLF\n",
      " 53   -3509.90 MLSPWDLTAVFGMTFWRFANLQNATFVWWRYEKGLF\n",
      " 54   -3120.26 MLSLVYTWAVFGMTHLHFANLEDYETVQRYREKGLF\n",
      " 55   -3303.91 MLSDGYVFAVFGMTLSGFANLVHDIMCMWWCEKGLF\n",
      " 56   -3469.37 MLSFQFGYAVFGMTFKSFANLCFAPQMWLMFEKGLF\n",
      " 57   -3829.47 MLSMHWIFAVFGMTNRYFANLFFWCLFCFVIEKGLF\n",
      " 58   -2737.10 MLSKWNEVAVFGMTMFYFANLPRGNSWSNVNEKGLF\n",
      " 59   -3330.72 MLSFCSVLAVFGMTIMPFANLLIVMHVMWSMEKGLF\n",
      " 60   -3390.64 MLSWCMVWAVFGMTMWIFANLIFKATQLFTPEKGLF\n",
      " 61   -3236.22 MLSNMWTFAVFGMTMAYFANLFEKRWCCIFTEKGLF\n",
      " 62   -3117.56 MLSVPDLDAVFGMTFQHFANLNHMSVCALLEEKGLF\n",
      " 63   -3423.55 MLSMWQMLAVFGMTVWVFANLREWNYLMLHREKGLF\n",
      " 64   -3283.48 MLSGRLLSAVFGMTVLLFANLLGYVWVKLYTEKGLF\n",
      " 65   -3572.02 MLSMAFISAVFGMTMDYFANLDDWYLWWILWEKGLF\n",
      " 66   -3712.22 MLSYLWSFAVFGMTFRYFANLPQMFHLSLWTEKGLF\n",
      " 67   -3475.37 MLSYIVHWAVFGMTCFHFANLWMEVPCWLVYEKGLF\n",
      " 68   -3168.78 MLSPDFMLAVFGMTRPVFANLAREFMSWMIGEKGLF\n",
      " 69   -3522.86 MLSWLHLWAVFGMTMHVFANLAIYDKHIFFMEKGLF\n",
      " 70   -3170.55 MLSWNLFNAVFGMTFWEFANLFESRNGTDFKEKGLF\n",
      " 71   -3473.52 MLSQFRYSAVFGMTILSFANLYFWQIMEMFSEKGLF\n",
      " 72   -3234.24 MLSYQYCIAVFGMTGEMFANLNKCWRKNYLLEKGLF\n",
      " 73   -3603.93 MLSVWTMFAVFGMTYWNFANLALQVYVNFICEKGLF\n",
      " 74   -3661.03 MLSHNQVPAVFGMTMIGFANLNFRLWWFYFYEKGLF\n",
      " 75   -3430.47 MLSYRFYDAVFGMTWILFANLRGLVLIDCWGEKGLF\n",
      " 76   -3490.80 MLSGYFLKAVFGMTIELFANLYVEMMLKILEEKGLF\n",
      " 77   -3526.48 MLSWRVIYAVFGMTIRGFANLSRKLFSMVVWEKGLF\n",
      " 78   -3353.98 MLSGSWTSAVFGMTWTTFANLTHEHWRKCWFEKGLF\n",
      " 79   -3433.78 MLSQEMVWAVFGMTLPCFANLRVVWDLPWFREKGLF\n",
      " 80   -3206.58 MLSFDRMPAVFGMTLRMFANLSKLQGLQIFDEKGLF\n",
      " 81   -3220.48 MLSIRFNLAVFGMTMLQFANLTLYTFPKNVCEKGLF\n",
      " 82   -3572.57 MLSLRIFHAVFGMTWFAFANLIFWNICIVYTEKGLF\n",
      " 83   -3314.85 MLSCLDMQAVFGMTFATFANLVFFQYYMRWCEKGLF\n",
      " 84   -3112.90 MLSYCSTFAVFGMTPEPFANLHTRAEKHFWMEKGLF\n",
      " 85   -3563.41 MLSCMYYDAVFGMTWPEFANLVKDRWSYFWWEKGLF\n",
      " 86   -3120.47 MLSWEQIEAVFGMTFIVFANLLIWSDRSIQNEKGLF\n",
      " 87   -3884.52 MLSFMWLTAVFGMTFMQFANLMVNHWYKHFLEKGLF\n",
      " 88   -3308.88 MLSWMVAVAVFGMTPSGFANLDFWFMEIILKEKGLF\n",
      " 89   -3319.92 MLSTFPKQAVFGMTYEWFANLGVFCLYCFMCEKGLF\n",
      " 90   -3622.57 MLSVIFTKAVFGMTNQHFANLQMYFWQYWYVEKGLF\n",
      " 91   -3611.55 MLSVFCWYAVFGMTWVMFANLYQWHLWHFNTEKGLF\n",
      " 92   -3628.53 MLSHVWWIAVFGMTLVCFANLELIMWFKFMSEKGLF\n",
      " 93   -2754.88 MLSQDLHHAVFGMTCISFANLGGDLCDMWKQEKGLF\n",
      " 94   -3592.64 MLSMKLICAVFGMTFGCFANLPFYWWMLPYNEKGLF\n",
      " 95   -3506.10 MLSMYWYCAVFGMTLREFANLSHIRFHEQWKEKGLF\n",
      " 96   -3294.34 MLSMMSMNAVFGMTFVEFANLKSFDLINYFHEKGLF\n",
      " 97   -3243.43 MLSWKLTSAVFGMTIRMFANLQSRMHMHIYAEKGLF\n",
      " 98   -3505.90 MLSHWVCHAVFGMTFMRFANLEKLFLFKWCPEKGLF\n",
      " 99   -3575.63 MLSIVLMYAVFGMTWMCFANLQSCQFYYHAFEKGLF\n"
     ]
    }
   ],
   "source": [
    "import Bio.PDB\n",
    "import Bio.Seq\n",
    "import Bio.SeqUtils\n",
    "import Bio.pairwise2\n",
    "import Bio.SeqRecord\n",
    "import Bio.Align.AlignInfo\n",
    "for k,v in mc_villin.models.iteritems():\n",
    "    print \"%3i %10.2f %s\"%(k, v['score'][-1][0], \\\n",
    "        Bio.Seq.Seq(''.join([Bio.SeqUtils.seq1(x.get_resname()) \\\n",
    "                    for x in v['model'].get_residues()])))"
   ]
  },
  {
   "cell_type": "code",
   "execution_count": 51,
   "metadata": {
    "collapsed": false
   },
   "outputs": [
    {
     "name": "stdout",
     "output_type": "stream",
     "text": [
      "MLSDEDFKAVFGMTRSAFANLPLWKQQNLKKEKGLF\n",
      "MLSMLWMWAVFGMTXXYFANLXFWFWFKLFFEKGLF\n",
      "MLSXXXXXAVFGMTXXXFANLXXXXXXXLFXEKGLF\n",
      "MLSXXXXXAVFGMTXXXFANLXXXXXXXXXXEKGLF\n"
     ]
    }
   ],
   "source": [
    "sequences = [Bio.SeqRecord.SeqRecord(Bio.Seq.Seq(''.join([Bio.SeqUtils.seq1(x.get_resname()) \\\n",
    "                    for x in v['model'].get_residues()]))) for k, v in mc_villin.models.iteritems() if v['score'][-1][0]<-3200.]\n",
    "align =  Bio.Align.MultipleSeqAlignment(sequences)\n",
    "summary_align = Bio.Align.AlignInfo.SummaryInfo(align)\n",
    "print villin_des.seq\n",
    "print summary_align.dumb_consensus(threshold=(0.1))\n",
    "print summary_align.dumb_consensus(threshold=(0.2))\n",
    "print summary_align.dumb_consensus(threshold=(0.5))\n"
   ]
  },
  {
   "cell_type": "code",
   "execution_count": 53,
   "metadata": {
    "collapsed": false
   },
   "outputs": [
    {
     "data": {
      "text/plain": [
       "15.8"
      ]
     },
     "execution_count": 53,
     "metadata": {},
     "output_type": "execute_result"
    }
   ],
   "source": [
    "len(sequences)*0.2"
   ]
  },
  {
   "cell_type": "code",
   "execution_count": null,
   "metadata": {
    "collapsed": true
   },
   "outputs": [],
   "source": []
  }
 ],
 "metadata": {
  "anaconda-cloud": {},
  "kernelspec": {
   "display_name": "Python [default]",
   "language": "python",
   "name": "python2"
  },
  "language_info": {
   "codemirror_mode": {
    "name": "ipython",
    "version": 2
   },
   "file_extension": ".py",
   "mimetype": "text/x-python",
   "name": "python",
   "nbconvert_exporter": "python",
   "pygments_lexer": "ipython2",
   "version": "2.7.12"
  }
 },
 "nbformat": 4,
 "nbformat_minor": 0
}
